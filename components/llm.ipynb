{
 "cells": [
  {
   "cell_type": "markdown",
   "metadata": {},
   "source": [
    "#### Large Language Model Component\n",
    "- Used for calling the large language model pipeline in Google Colab to use high-spec GPU for faster LLM inference\n",
    "- To be stored in Google Colab as a python file/script"
   ]
  },
  {
   "cell_type": "markdown",
   "metadata": {},
   "source": [
    "##### Main LLM Script"
   ]
  },
  {
   "cell_type": "code",
   "execution_count": null,
   "metadata": {},
   "outputs": [],
   "source": [
    "## Prompt Generator + LLM\n",
    "# Langchain and Ollama\n",
    "import langchain\n",
    "from langchain_ollama.llms import OllamaLLM\n",
    "from langchain_core.prompts import ChatPromptTemplate\n",
    "\n",
    "TEMPLATE_SETTING = 1\n",
    "\n",
    "if (TEMPLATE_SETTING == 0):\n",
    "    # Template for non fine tuned model\n",
    "    # CONTEXT V2\n",
    "    template = \"\"\"\n",
    "    You are an expert in software quality assurance specializing in usability testing. Given a UI element, generate a set of functional usability test cases with detailed test scenarios.\n",
    "\n",
    "    The UI element could be a button, link, text, or input field (some elements have a link attached to them). Consider the attribute attached to the UI element as the attribute acts as a hint about the primary focus of the test case. Also consider the following usability aspects:\n",
    "\n",
    "    Accessibility (keyboard navigation, screen reader support, etc.)\n",
    "    Responsiveness (behavior across different screen sizes, etc.)\n",
    "    Feedback (hover effects, click responses, error messages, etc.)\n",
    "    Interactivity (expected behavior when clicked, typed into, or focused, etc.)\n",
    "    User experience (clarity of labels, ease of use, etc.)\n",
    "\n",
    "    Only output the following, separated by a ~:\n",
    "\n",
    "    Objective (What the test aims to verify)\n",
    "    Preconditions (Any setup or conditions required before testing)\n",
    "    Test Steps (Step-by-step actions to perform the test)\n",
    "    Expected Result (Expected outcome if the UI element works correctly)\n",
    "\n",
    "    Your output should only be in the following structured format but do not include the format in the output: \"Objective\"~\"Preconditions\"~\"Test Steps\"~\"Expected Result\"\n",
    "    DO NOT output anything else but one test case in the said format.\n",
    "\n",
    "    Here is the UI Element: {ui_element}\n",
    "    The UI Element is from the following website URL : {url}\n",
    "    \"\"\"\n",
    "\n",
    "    model_str = \"llama3.1\"\n",
    "elif (TEMPLATE_SETTING == 1):\n",
    "    # template and model for fine-tuned version\n",
    "    template = \"\"\"{ui_element} from the website: {url}\"\"\"\n",
    "    model_str = \"llamalora4\""
   ]
  }
 ],
 "metadata": {
  "kernelspec": {
   "display_name": "thesis-env",
   "language": "python",
   "name": "python3"
  },
  "language_info": {
   "name": "python",
   "version": "3.12.4"
  }
 },
 "nbformat": 4,
 "nbformat_minor": 2
}
