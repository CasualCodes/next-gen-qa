{
 "cells": [
  {
   "cell_type": "markdown",
   "metadata": {},
   "source": [
    "#### Large Language Model Component\n",
    "- Used for calling the large language model pipeline in Google Colab to use high-spec GPU for faster LLM inference\n",
    "- To be stored in Google Colab as a python file/script\n",
    "- Contains a duplicate of prompt generator's LLM related functions (but not iterative), and Modelfile Text for the Ollama Modelfile after Fine Tuning"
   ]
  },
  {
   "cell_type": "markdown",
   "metadata": {},
   "source": [
    "##### Main LLM Script"
   ]
  },
  {
   "cell_type": "code",
   "execution_count": null,
   "metadata": {},
   "outputs": [],
   "source": [
    "## Prompt Generator + LLM\n",
    "# Langchain and Ollama\n",
    "import langchain\n",
    "from langchain_ollama.llms import OllamaLLM\n",
    "from langchain_core.prompts import ChatPromptTemplate\n",
    "\n",
    "## Settings\n",
    "TEMPLATE_SETTING = 1\n",
    "DEBUG_SETTING = 1\n",
    "\n",
    "## Template for non-finetuned Llama 3.1 8B model. Very Consistent\n",
    "if (TEMPLATE_SETTING == 0):\n",
    "    template = \"\"\"You are an expert in software quality assurance specializing in usability testing.\n",
    "\n",
    "    Consider the following usability aspects:\n",
    "    Accessibility (keyboard navigation, screen reader support, etc.)\n",
    "    Responsiveness (behavior across different screen sizes, etc.)\n",
    "    Feedback (hover effects, click responses, error messages, etc.)\n",
    "    Interactivity (expected behavior when clicked, typed into, or focused, etc.)\n",
    "    User experience (clarity of labels, ease of use, etc.)\n",
    "\n",
    "    Avoid descriptions like \"The user\" or \"The test participant\" and should instead focus on direct, executable actions.\n",
    "\n",
    "    Given this UI Element: {ui_element}\n",
    "    From this website: {url}\n",
    "\n",
    "    Generate a functional usability test case with the following aspects, separated by a `~`:\n",
    "    - **Objective**: Clearly state the objective of the test.\n",
    "    - **Preconditions**: List any preconditions that need to be met.\n",
    "    - **Test Steps**: Provide a step-by-step guide for the test. Each step should be a direct command, not a description.\n",
    "    - **Expected Output**: Describe the expected output.\n",
    "\n",
    "    Output format example, start with the objective directly and avoid saying \"here is the test case\" or the name of the testcase and end the output after writing the expected output:\n",
    "    Objective: [Describe the objective] \n",
    "    ~ Preconditions: [List preconditions, use dashes] \n",
    "    ~ Test Steps: [Step-by-step guide] \n",
    "    ~ Expected Output: [Describe the expected output, use dashes]\"\"\"\n",
    "\n",
    "    model_str = \"llama3.1\"\n",
    "\n",
    "## Template for fine-tuned Llama 3.1 8B model. Can be very sensitive to the prompt\n",
    "# - Experimental\n",
    "elif (TEMPLATE_SETTING == 1):\n",
    "    template = \"\"\"Generate a functional usability test case for the following UI element: {ui_element} from the website: {url}\"\"\"\n",
    "    model_str = \"qallama\"\n",
    "\n",
    "## Returns Model\n",
    "# - Call using: chain.invoke({\"ui_element\": str(item), \"url\": url})\n",
    "# - str(item) is string version of the scraped element\n",
    "# - url is the website url\n",
    "def load_model_chain(template : str =  template, model_str : str = model_str, temperature=0):\n",
    "    prompt = ChatPromptTemplate.from_template(template)\n",
    "    # For Non-Fine Tuned\n",
    "    if TEMPLATE_SETTING == 0:\n",
    "        model = OllamaLLM(model=model_str, temperature=temperature)\n",
    "    else:\n",
    "        model = OllamaLLM(model=model_str)\n",
    "    chain = prompt | model\n",
    "    return chain"
   ]
  },
  {
   "cell_type": "markdown",
   "metadata": {},
   "source": [
    "##### Modelfile\n",
    "- replace input content with the context"
   ]
  },
  {
   "cell_type": "raw",
   "metadata": {
    "vscode": {
     "languageId": "raw"
    }
   },
   "source": [
    "FROM llama3.1\n",
    "\n",
    "ADAPTER ./\n",
    "\n",
    "TEMPLATE \"\"\"{{ if .System }}{{ .System }}\n",
    "\n",
    "{{ end }}{{ if .Prompt }}### Instruction:\n",
    "{{ .Prompt }}{{ end }}\n",
    "\n",
    "### Input:\n",
    "You are an expert in software quality assurance specializing in usability testing.\n",
    "\n",
    "Consider the following usability aspects:\n",
    "Accessibility (keyboard navigation, screen reader support, etc.)\n",
    "Responsiveness (behavior across different screen sizes, etc.)\n",
    "Feedback (hover effects, click responses, error messages, etc.)\n",
    "Interactivity (expected behavior when clicked, typed into, or focused, etc.)\n",
    "User experience (clarity of labels, ease of use, etc.)\n",
    "\n",
    "Avoid descriptions like \"The user\" or \"The test participant\" and should instead focus on direct, executable actions.\n",
    "\n",
    "The functional usability test case has the following aspects, separated by a `~`:\n",
    "- **Objective**: Clearly state the objective of the test.\n",
    "- **Preconditions**: List any preconditions that need to be met.\n",
    "- **Test Steps**: Provide a step-by-step guide for the test. Each step should be a direct command, not a description.\n",
    "- **Expected Output**: Describe the expected output.\n",
    "\n",
    "Output format example, start with the objective directly and avoid saying \"here is the test case\" or the name of the testcase and end the output after writing the expected output:\n",
    "Objective: [Describe the objective] \n",
    "~ Preconditions: [List preconditions, use dashes] \n",
    "~ Test Steps: [Step-by-step guide] \n",
    "~ Expected Output: [Describe the expected output, use dashes]\n",
    "\n",
    "### Response:\n",
    "{{ .Response }}\n",
    "\"\"\"\n",
    "\n",
    "PARAMETER stop \"### Response:\"\n",
    "PARAMETER stop \"<|end_of_text|>\"\n",
    "PARAMETER stop \"Note:\"\n",
    "PARAMETER stop \"EOF\"\n",
    "PARAMETER stop \"###\"\n",
    "PARAMETER stop \"End of Response\"\n",
    "PARAMETER num_predict 1024\n",
    "\n",
    "SYSTEM \"Below is an instruction that describes a task, paired with an input that provides further context. Write a response that appropriately completes the request.\""
   ]
  },
  {
   "cell_type": "raw",
   "metadata": {
    "vscode": {
     "languageId": "raw"
    }
   },
   "source": [
    "Additional parameters that may help prevent"
   ]
  }
 ],
 "metadata": {
  "kernelspec": {
   "display_name": "thesis-env",
   "language": "python",
   "name": "python3"
  },
  "language_info": {
   "name": "python",
   "version": "3.12.4"
  }
 },
 "nbformat": 4,
 "nbformat_minor": 2
}
