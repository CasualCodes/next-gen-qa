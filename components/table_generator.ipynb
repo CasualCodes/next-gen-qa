{
 "cells": [
  {
   "cell_type": "markdown",
   "metadata": {},
   "source": [
    "### Prototype Code : Table Generator"
   ]
  },
  {
   "cell_type": "code",
   "execution_count": null,
   "metadata": {},
   "outputs": [],
   "source": [
    "# Table File Generator\n",
    "\n",
    "def dataframe_init(in_data, out_data, text_data):\n",
    "    # initialize data of lists.\n",
    "    data = {\"output\" : out_data, \n",
    "           \"input\" : in_data,\n",
    "           \"instruction\" : text_data}\n",
    "\n",
    "    # Create DataFrame\n",
    "    df = pd.DataFrame(dict([(key, pd.Series(value)) for key, value in data.items()]))\n",
    "    # df = pd.DataFrame(data)\n",
    "    return df"
   ]
  },
  {
   "cell_type": "code",
   "execution_count": null,
   "metadata": {},
   "outputs": [],
   "source": [
    "# CSV Generator\n",
    "\n",
    "def csv_from_test_case_batches(filename, input_column, output_column, text_column):\n",
    "    cols = dataframe_init(input_column, output_column, text_column)\n",
    "    cols.to_csv(f\"{filename}.csv\", sep='\\t', encoding='utf-8', index=False, header=True)"
   ]
  },
  {
   "cell_type": "code",
   "execution_count": null,
   "metadata": {},
   "outputs": [],
   "source": [
    "# Main Program\n",
    "\n",
    "# FILENAME\n",
    "filename = \"sample_name\"\n",
    "# URL\n",
    "url = get_url()\n",
    "# DATA\n",
    "data = data_scrape(url) # Returns Link Data Only For Now\n",
    "\n",
    "# Prepare data to be plcaed in the Input Column\n",
    "input_data = []\n",
    "for item_set in data:\n",
    "    for item in item_set:\n",
    "        input_data.append(item)\n",
    "\n",
    "# CHAIN\n",
    "chain = load_model_chain()\n",
    "# GENERATE TEST CASES\n",
    "test_cases = create_test_cases(data, chain)\n",
    "\n",
    "# Prepare data to be plcaed in the Output Column [Split]\n",
    "split_sets = []\n",
    "for test_case_set in test_cases:\n",
    "    for test_case in test_case_set:\n",
    "        for test in test_case:\n",
    "            split_sets.append(test.split('~'))\n",
    "# Prepare data to be plcaed in the Output Column [Actual Column]\n",
    "output_data = []\n",
    "for sp in split_sets:\n",
    "    output_data.append(sp)\n",
    "    \n",
    "# Fine-Tuning Template\n",
    "text_data = []\n",
    "i = 0\n",
    "while (i < len(input_data)):\n",
    "    template = f\"####Question:\\n Generate test case for the following UI element: {input_data[i]}\"\n",
    "    text_data.append(template)\n",
    "    i+=1\n",
    "    \n",
    "# CSV OUTPUT\n",
    "csv_from_test_case_batches(filename, input_data, output_data, text_data)"
   ]
  },
  {
   "cell_type": "markdown",
   "metadata": {},
   "source": [
    "### Version 1"
   ]
  },
  {
   "cell_type": "code",
   "execution_count": null,
   "metadata": {},
   "outputs": [],
   "source": []
  },
  {
   "cell_type": "code",
   "execution_count": null,
   "metadata": {},
   "outputs": [],
   "source": []
  },
  {
   "cell_type": "code",
   "execution_count": null,
   "metadata": {},
   "outputs": [],
   "source": []
  }
 ],
 "metadata": {
  "language_info": {
   "name": "python"
  }
 },
 "nbformat": 4,
 "nbformat_minor": 2
}
