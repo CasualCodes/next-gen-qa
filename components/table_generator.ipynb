{
 "cells": [
  {
   "cell_type": "markdown",
   "metadata": {},
   "source": [
    "### Prototype Code : Table Generator"
   ]
  },
  {
   "cell_type": "code",
   "execution_count": null,
   "metadata": {},
   "outputs": [],
   "source": [
    "# Table File Generator\n",
    "\n",
    "def dataframe_init(in_data, out_data, text_data):\n",
    "    # initialize data of lists.\n",
    "    data = {\"output\" : out_data, \n",
    "           \"input\" : in_data,\n",
    "           \"instruction\" : text_data}\n",
    "\n",
    "    # Create DataFrame\n",
    "    df = pd.DataFrame(dict([(key, pd.Series(value)) for key, value in data.items()]))\n",
    "    # df = pd.DataFrame(data)\n",
    "    return df"
   ]
  },
  {
   "cell_type": "code",
   "execution_count": null,
   "metadata": {},
   "outputs": [],
   "source": [
    "# CSV Generator\n",
    "\n",
    "def csv_from_test_case_batches(filename, input_column, output_column, text_column):\n",
    "    cols = dataframe_init(input_column, output_column, text_column)\n",
    "    cols.to_csv(f\"{filename}.csv\", sep='\\t', encoding='utf-8', index=False, header=True)"
   ]
  },
  {
   "cell_type": "code",
   "execution_count": null,
   "metadata": {},
   "outputs": [],
   "source": [
    "# Main Program\n",
    "\n",
    "# FILENAME\n",
    "filename = \"sample_name\"\n",
    "# URL\n",
    "url = get_url()\n",
    "# DATA\n",
    "data = data_scrape(url) # Returns Link Data Only For Now\n",
    "\n",
    "# Prepare data to be plcaed in the Input Column\n",
    "input_data = []\n",
    "for item_set in data:\n",
    "    for item in item_set:\n",
    "        input_data.append(item)\n",
    "\n",
    "# CHAIN\n",
    "chain = load_model_chain()\n",
    "# GENERATE TEST CASES\n",
    "test_cases = create_test_cases(data, chain)\n",
    "\n",
    "# Prepare data to be plcaed in the Output Column [Split]\n",
    "split_sets = []\n",
    "for test_case_set in test_cases:\n",
    "    for test_case in test_case_set:\n",
    "        for test in test_case:\n",
    "            split_sets.append(test.split('~'))\n",
    "# Prepare data to be plcaed in the Output Column [Actual Column]\n",
    "output_data = []\n",
    "for sp in split_sets:\n",
    "    output_data.append(sp)\n",
    "    \n",
    "# Fine-Tuning Template\n",
    "text_data = []\n",
    "i = 0\n",
    "while (i < len(input_data)):\n",
    "    template = f\"####Question:\\n Generate test case for the following UI element: {input_data[i]}\"\n",
    "    text_data.append(template)\n",
    "    i+=1\n",
    "    \n",
    "# CSV OUTPUT\n",
    "csv_from_test_case_batches(filename, input_data, output_data, text_data)"
   ]
  },
  {
   "cell_type": "markdown",
   "metadata": {},
   "source": [
    "### Version 1 : Dataset Generator Polish and System Proper Split"
   ]
  },
  {
   "cell_type": "code",
   "execution_count": null,
   "metadata": {},
   "outputs": [],
   "source": [
    "# Pandas\n",
    "import pandas as pd\n",
    "\n",
    "# Table Dataframe Initialization\n",
    "def dataframe_init(data):\n",
    "    df = pd.DataFrame(dict([(key, pd.Series(value)) for key, value in data.items()]))\n",
    "    return df\n",
    "\n",
    "# CSV Generator\n",
    "def csv_from_test_case_batches(filename, data):\n",
    "    cols = dataframe_init(data)\n",
    "    cols.to_csv(f\"{filename}.csv\", sep='\\t', encoding='utf-8', index=False, header=True)\n",
    "\n",
    "\n",
    "def create_fine_tuning_dataset(scraped_data, llm_output):\n",
    "    # Dataset Generator : Resulting Dataset Columns / Parameters\n",
    "    out_data = llm_output # LLM Output\n",
    "    in_data = scraped_data # Scraped UI Element\n",
    "    instruction_data = []\n",
    "    i = 0\n",
    "    while (i < len(scraped_data)):\n",
    "        template = f\"####Question:\\n Generate test case for the following UI element: {in_data[i]}\"\n",
    "        instruction_data.append(template)\n",
    "        i+=1\n",
    "\n",
    "    data = {\"output\" : out_data, \n",
    "            \"input\" : in_data, \n",
    "            \"instruction\" : instruction_data}\n",
    "    csv_from_test_case_batches(\"fine_tuning_dataset\", data)\n",
    "    return dataframe_init(data)    "
   ]
  },
  {
   "cell_type": "markdown",
   "metadata": {},
   "source": [
    "##### Version 1: System Proper Table Generation"
   ]
  },
  {
   "cell_type": "code",
   "execution_count": null,
   "metadata": {},
   "outputs": [],
   "source": [
    "# System Proper Parameters\n",
    "def create_table_dataset(llm_output):\n",
    "    # TODO : After Dataset Generator Development\n",
    "\n",
    "    id = []\n",
    "    objective = []\n",
    "    precondition = []\n",
    "    test_steps = []\n",
    "    expected_result = []\n",
    "    actual_result = []\n",
    "\n",
    "    i = 0\n",
    "    for test_case in llm_output:\n",
    "        split_test_case = test_case.split('~')\n",
    "\n",
    "        # Test Case ID\n",
    "        id.append(i+1)\n",
    "\n",
    "        # Test Case Objective\n",
    "        objective.append(split_test_case[0])\n",
    "\n",
    "        # Test Case Precondition\n",
    "        precondition.append(split_test_case[1])\n",
    "\n",
    "        # Test Case Steps \n",
    "        test_steps.append(split_test_case[2])\n",
    "\n",
    "        # Test Case Expected Output\n",
    "        expected_result.append(split_test_case[3])\n",
    "\n",
    "        # Test Case Actual Result\n",
    "        actual_result.append(\"Pass/Fail\")\n",
    "\n",
    "        i+=1\n",
    "\n",
    "    data = {\"Test Case ID\" : id,\n",
    "            \"Objective\" : objective,\n",
    "            \"Precondition\" : precondition,\n",
    "            \"Test Steps\" : test_steps,\n",
    "            \"Expected Result\" : expected_result,\n",
    "            \"Actual Result\" : actual_result}\n",
    "\n",
    "    return dataframe_init(data)"
   ]
  }
 ],
 "metadata": {
  "kernelspec": {
   "display_name": "thesis-env",
   "language": "python",
   "name": "python3"
  },
  "language_info": {
   "codemirror_mode": {
    "name": "ipython",
    "version": 3
   },
   "file_extension": ".py",
   "mimetype": "text/x-python",
   "name": "python",
   "nbconvert_exporter": "python",
   "pygments_lexer": "ipython3",
   "version": "3.12.4"
  }
 },
 "nbformat": 4,
 "nbformat_minor": 4
}
