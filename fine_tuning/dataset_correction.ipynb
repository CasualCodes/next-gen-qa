{
 "cells": [
  {
   "cell_type": "markdown",
   "metadata": {},
   "source": [
    "#### Dataset Correction\n",
    "- To be used when correcting format of datasets from Cycle 2"
   ]
  },
  {
   "cell_type": "code",
   "execution_count": null,
   "metadata": {},
   "outputs": [],
   "source": [
    "import pandas as pd\n",
    "sep = \",\"\n",
    "\n",
    "# DF Load\n",
    "df = pd.read_csv(\"Cycle2_dataset - train.csv\", sep=sep)\n",
    "print(df)\n",
    "\n",
    "# Correction Procedure (clear input column)\n",
    "i = 0\n",
    "while i<len(df):\n",
    "    df['instruction'][i] = df['instruction'][i].replace(df['instruction'][i], df['instruction'][i] + \" \" + df['input'][i])\n",
    "    df['input'][i] = df['input'][i].replace(df['input'][i], \"\")\n",
    "    i+=1\n",
    "print(df)\n",
    "\n",
    "# Convert to CSV\n",
    "df.to_csv(f\"Cycle2_dataset - train reformatted.csv\", sep=sep, encoding='utf-8', index=False, header=True)\n",
    "print(\"CSV export successful\")"
   ]
  }
 ],
 "metadata": {
  "kernelspec": {
   "display_name": "thesis-env",
   "language": "python",
   "name": "python3"
  },
  "language_info": {
   "codemirror_mode": {
    "name": "ipython",
    "version": 3
   },
   "file_extension": ".py",
   "mimetype": "text/x-python",
   "name": "python",
   "nbconvert_exporter": "python",
   "pygments_lexer": "ipython3",
   "version": "3.12.4"
  }
 },
 "nbformat": 4,
 "nbformat_minor": 2
}
